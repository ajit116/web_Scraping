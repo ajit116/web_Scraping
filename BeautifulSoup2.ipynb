{
 "cells": [
  {
   "cell_type": "markdown",
   "metadata": {},
   "source": [
    "# Scraping Data_Camp courses using Python"
   ]
  },
  {
   "cell_type": "markdown",
   "metadata": {},
   "source": [
    "## source :  https://www.datacamp.com/courses/"
   ]
  },
  {
   "cell_type": "code",
   "execution_count": 1,
   "metadata": {},
   "outputs": [],
   "source": [
    "from bs4 import BeautifulSoup\n",
    "from urllib.request import urlopen\n",
    "import pandas as pd\n",
    "import csv"
   ]
  },
  {
   "cell_type": "code",
   "execution_count": 2,
   "metadata": {},
   "outputs": [],
   "source": [
    "root_url = 'https://www.datacamp.com/courses/'"
   ]
  },
  {
   "cell_type": "code",
   "execution_count": 3,
   "metadata": {},
   "outputs": [],
   "source": [
    "souce = urlopen(root_url)"
   ]
  },
  {
   "cell_type": "code",
   "execution_count": 4,
   "metadata": {},
   "outputs": [],
   "source": [
    "soup = BeautifulSoup(souce,\"html.parser\")"
   ]
  },
  {
   "cell_type": "code",
   "execution_count": 5,
   "metadata": {},
   "outputs": [
    {
     "name": "stdout",
     "output_type": "stream",
     "text": [
      "Data Science Courses: R & Python Analysis Tutorials | DataCamp\n"
     ]
    }
   ],
   "source": [
    "print(soup.title.text)"
   ]
  },
  {
   "cell_type": "markdown",
   "metadata": {},
   "source": [
    "All the courses on DataCamp are listed below :"
   ]
  },
  {
   "cell_type": "code",
   "execution_count": 6,
   "metadata": {},
   "outputs": [
    {
     "name": "stdout",
     "output_type": "stream",
     "text": [
      "/courses/tech:r\n",
      "/courses/tech:python\n",
      "/courses/tech:sql\n",
      "/courses/tech:git\n",
      "/courses/tech:shell\n",
      "/courses/tech:spreadsheets\n"
     ]
    }
   ],
   "source": [
    "for div in soup.find_all('div',{'class':'row dc-u-pb-48'}):\n",
    "    for url in div.find_all('a'):\n",
    "        print(url.get('href'))"
   ]
  },
  {
   "cell_type": "code",
   "execution_count": 7,
   "metadata": {},
   "outputs": [
    {
     "name": "stdout",
     "output_type": "stream",
     "text": [
      "['R']\n",
      "['Python']\n",
      "['SQL']\n",
      "['Git']\n",
      "['Shell']\n",
      "['Spreadsheets']\n"
     ]
    }
   ],
   "source": [
    "for div in soup.find_all('div',{'class': 'col-lg-4 col-sm-6'}):\n",
    "    print(div.text.split())\n",
    "    "
   ]
  },
  {
   "cell_type": "markdown",
   "metadata": {},
   "source": [
    "Function to scarp all the courses of Data Camp:"
   ]
  },
  {
   "cell_type": "code",
   "execution_count": 8,
   "metadata": {},
   "outputs": [],
   "source": [
    "def courses_by_topic(topic):\n",
    "    courses = []\n",
    "    url_to_be_scrapped = root_url + topic\n",
    "    print('Scrapping ' + url_to_be_scrapped)\n",
    "    content_per_topic = urlopen(url_to_be_scrapped)\n",
    "    soup = BeautifulSoup(content_per_topic, 'html.parser')\n",
    "    resource = soup.find_all('div', attrs={'class': 'courses__explore-list row'})\n",
    "    for div in resource:\n",
    "        urls = div.find_all('h4', attrs={'class': 'course-block__title'})\n",
    "        for url in urls:\n",
    "            courses.append(url.get_text())\n",
    "    print(\"Scrapped \" + topic +\".\")\n",
    "    return courses"
   ]
  },
  {
   "cell_type": "code",
   "execution_count": 9,
   "metadata": {},
   "outputs": [
    {
     "name": "stdout",
     "output_type": "stream",
     "text": [
      "Scrapping https://www.datacamp.com/courses/tech:r\n",
      "Scrapped tech:r.\n",
      "Total number of R courses 142\n"
     ]
    }
   ],
   "source": [
    "r_courses = courses_by_topic('tech:r')\n",
    "print('Total number of R courses ' + str(len(r_courses)))"
   ]
  },
  {
   "cell_type": "code",
   "execution_count": null,
   "metadata": {},
   "outputs": [],
   "source": []
  },
  {
   "cell_type": "code",
   "execution_count": 10,
   "metadata": {},
   "outputs": [
    {
     "name": "stdout",
     "output_type": "stream",
     "text": [
      "Scrapping https://www.datacamp.com/courses/tech:python\n",
      "Scrapped tech:python.\n",
      "Total number of Python courses - 69\n"
     ]
    }
   ],
   "source": [
    "python_courses = courses_by_topic('tech:python')\n",
    "print('Total number of Python courses - ' + str(len(python_courses)))"
   ]
  },
  {
   "cell_type": "code",
   "execution_count": null,
   "metadata": {},
   "outputs": [],
   "source": []
  },
  {
   "cell_type": "code",
   "execution_count": 11,
   "metadata": {},
   "outputs": [
    {
     "name": "stdout",
     "output_type": "stream",
     "text": [
      "Scrapping https://www.datacamp.com/courses/tech:sql\n",
      "Scrapped tech:sql.\n",
      "Total number of SQL courses - 6\n"
     ]
    }
   ],
   "source": [
    "sql_courses = courses_by_topic('tech:sql')\n",
    "print('Total number of SQL courses - ' + str(len(sql_courses)))"
   ]
  },
  {
   "cell_type": "code",
   "execution_count": null,
   "metadata": {},
   "outputs": [],
   "source": []
  },
  {
   "cell_type": "code",
   "execution_count": 12,
   "metadata": {},
   "outputs": [
    {
     "name": "stdout",
     "output_type": "stream",
     "text": [
      "Scrapping https://www.datacamp.com/courses/tech:git\n",
      "Scrapped tech:git.\n",
      "Total number of Git courses - 1\n"
     ]
    }
   ],
   "source": [
    "git_courses = courses_by_topic('tech:git')\n",
    "print('Total number of Git courses - ' + str(len(git_courses)))"
   ]
  },
  {
   "cell_type": "code",
   "execution_count": null,
   "metadata": {},
   "outputs": [],
   "source": []
  },
  {
   "cell_type": "code",
   "execution_count": 13,
   "metadata": {},
   "outputs": [
    {
     "name": "stdout",
     "output_type": "stream",
     "text": [
      "Scrapping https://www.datacamp.com/courses/tech:shell\n",
      "Scrapped tech:shell.\n",
      "Total number of Shell courses - 3\n"
     ]
    }
   ],
   "source": [
    "shell_courses = courses_by_topic('tech:shell')\n",
    "print('Total number of Shell courses - ' + str(len(shell_courses)))"
   ]
  },
  {
   "cell_type": "code",
   "execution_count": null,
   "metadata": {},
   "outputs": [],
   "source": []
  },
  {
   "cell_type": "code",
   "execution_count": 14,
   "metadata": {},
   "outputs": [
    {
     "name": "stdout",
     "output_type": "stream",
     "text": [
      "Scrapping https://www.datacamp.com/courses/tech:spreadsheets\n",
      "Scrapped tech:spreadsheets.\n",
      "Total number of Shell courses - 4\n"
     ]
    }
   ],
   "source": [
    "spreadsheets_courses = courses_by_topic('tech:spreadsheets')\n",
    "print('Total number of Shell courses - ' + str(len(spreadsheets_courses)))"
   ]
  },
  {
   "cell_type": "code",
   "execution_count": null,
   "metadata": {},
   "outputs": [],
   "source": []
  },
  {
   "cell_type": "markdown",
   "metadata": {},
   "source": [
    "### Collecting all the courses in a single data frame"
   ]
  },
  {
   "cell_type": "code",
   "execution_count": 15,
   "metadata": {},
   "outputs": [],
   "source": [
    "r_courses = pd.DataFrame(data = r_courses, columns = ['Course Name'])\n",
    "r_courses['Topic Name'] = 'R'\n",
    "\n",
    "python_courses = pd.DataFrame(data = python_courses, columns = ['Course Name'])\n",
    "python_courses['Topic Name'] = 'Python'\n",
    "\n",
    "sql_courses = pd.DataFrame(data = sql_courses, columns = ['Course Name'])\n",
    "sql_courses['Topic Name'] = 'SQL'\n",
    "\n",
    "git_courses = pd.DataFrame(data = git_courses, columns = ['Course Name'])\n",
    "git_courses['Topic Name'] = 'Git'\n",
    "\n",
    "shell_courses = pd.DataFrame(data = shell_courses, columns = ['Course Name'])\n",
    "shell_courses['Topic Name'] = 'Shell'\n",
    "\n",
    "spreadsheet_courses = pd.DataFrame(data = spreadsheets_courses, columns = ['Course Name'])\n",
    "spreadsheet_courses['Topic Name'] = 'Spreadsheets'\n",
    "\n",
    "DataCamp = pd.concat([r_courses,python_courses,sql_courses,git_courses,shell_courses,spreadsheet_courses])"
   ]
  },
  {
   "cell_type": "code",
   "execution_count": 16,
   "metadata": {},
   "outputs": [
    {
     "data": {
      "text/plain": [
       "225"
      ]
     },
     "execution_count": 16,
     "metadata": {},
     "output_type": "execute_result"
    }
   ],
   "source": [
    "len(DataCamp)"
   ]
  },
  {
   "cell_type": "code",
   "execution_count": null,
   "metadata": {},
   "outputs": [],
   "source": []
  },
  {
   "cell_type": "raw",
   "metadata": {},
   "source": [
    "Storing all the courses into a csv file"
   ]
  },
  {
   "cell_type": "code",
   "execution_count": 17,
   "metadata": {},
   "outputs": [],
   "source": [
    "DataCamp.to_csv('C://Users//DELL//Desktop//Data Science//Filename2.csv', header=True)"
   ]
  },
  {
   "cell_type": "code",
   "execution_count": null,
   "metadata": {},
   "outputs": [],
   "source": []
  },
  {
   "cell_type": "code",
   "execution_count": null,
   "metadata": {},
   "outputs": [],
   "source": []
  }
 ],
 "metadata": {
  "kernelspec": {
   "display_name": "Python 3",
   "language": "python",
   "name": "python3"
  },
  "language_info": {
   "codemirror_mode": {
    "name": "ipython",
    "version": 3
   },
   "file_extension": ".py",
   "mimetype": "text/x-python",
   "name": "python",
   "nbconvert_exporter": "python",
   "pygments_lexer": "ipython3",
   "version": "3.6.6"
  }
 },
 "nbformat": 4,
 "nbformat_minor": 2
}
