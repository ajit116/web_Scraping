{
 "cells": [
  {
   "cell_type": "markdown",
   "metadata": {},
   "source": [
    "# Web Scraping with BeautifulSoup"
   ]
  },
  {
   "cell_type": "markdown",
   "metadata": {},
   "source": [
    "## Source :  https://www.datacamp.com/projects/"
   ]
  },
  {
   "cell_type": "markdown",
   "metadata": {},
   "source": [
    "### Data Camp projects on the following Topics:"
   ]
  },
  {
   "cell_type": "markdown",
   "metadata": {},
   "source": [
    "* tech:python\n",
    "* tech:r\n",
    "* tech:sql\n",
    "* tech:git\n",
    "* tech:shell\n",
    "* tech:spreadsheets"
   ]
  },
  {
   "cell_type": "code",
   "execution_count": 1,
   "metadata": {},
   "outputs": [],
   "source": [
    "from bs4 import BeautifulSoup\n",
    "from urllib.request import urlopen\n",
    "import pandas as pd\n",
    "import csv"
   ]
  },
  {
   "cell_type": "code",
   "execution_count": 2,
   "metadata": {},
   "outputs": [],
   "source": [
    "url = 'https://www.datacamp.com/projects/'"
   ]
  },
  {
   "cell_type": "code",
   "execution_count": 3,
   "metadata": {},
   "outputs": [],
   "source": [
    "souce = urlopen(url)"
   ]
  },
  {
   "cell_type": "code",
   "execution_count": 4,
   "metadata": {},
   "outputs": [],
   "source": [
    "soup = BeautifulSoup(souce, 'html.parser')"
   ]
  },
  {
   "cell_type": "code",
   "execution_count": 5,
   "metadata": {},
   "outputs": [
    {
     "name": "stdout",
     "output_type": "stream",
     "text": [
      "Projects | DataCamp\n"
     ]
    }
   ],
   "source": [
    "print(soup.title.text)"
   ]
  },
  {
   "cell_type": "code",
   "execution_count": null,
   "metadata": {},
   "outputs": [],
   "source": []
  },
  {
   "cell_type": "code",
   "execution_count": 6,
   "metadata": {},
   "outputs": [],
   "source": [
    "def Extraction(topic):\n",
    "    root_url = url + topic\n",
    "    print('Scraping '+ ''.join(topic.split(':')[1:]).upper()+' projects !!!')\n",
    "    souce = urlopen(root_url)\n",
    "    soup = BeautifulSoup(souce, 'html.parser')\n",
    "    A=[]\n",
    "    B=[]\n",
    "    C=[]\n",
    "    D=[]\n",
    "    E=[]\n",
    "    \n",
    "    pro_name = soup.findAll('h5', {'class': 'dc-project-block__title'})\n",
    "    if len(pro_name) == 0:\n",
    "        print('No projects found for ' + ''.join(topic.split(':')[1:]).upper()+'\\n')\n",
    "        return 'No projects found for ' + ''.join(topic.split(':')[1:]).upper()\n",
    "    else:\n",
    "        for i in range(0, len(pro_name)):\n",
    "            A.append(pro_name[i].text)\n",
    "            E.append(''.join(topic.split(':')[1:]).upper())\n",
    "        desc = soup.findAll('small',{'class':'dc-project-block__description'})\n",
    "        for i in range(0,len(desc)):\n",
    "            B.append(desc[i].text)\n",
    "    \n",
    "        Ins = soup.findAll('p',{'class': 'dc-project-block__author-name'})\n",
    "        for i in range(0,len(Ins)):\n",
    "            C.append(Ins[i].text)\n",
    "    \n",
    "        Bio = soup.findAll('p',{'class': 'dc-project-block__author-bio'})\n",
    "        for i in range(0,len(Bio)):\n",
    "            D.append(Bio[i].text)\n",
    "        \n",
    "        print('Creating the data frame')\n",
    "    \n",
    "        Comp = pd.DataFrame(data = A, columns = ['Project Name'])\n",
    "        Comp['Topic'] = E\n",
    "        Comp['Description']=B\n",
    "        Comp['Instructor']=C\n",
    "        Comp['Designation']=D\n",
    "        print('Done...\\n')\n",
    "        return Comp"
   ]
  },
  {
   "cell_type": "code",
   "execution_count": 7,
   "metadata": {},
   "outputs": [
    {
     "name": "stdout",
     "output_type": "stream",
     "text": [
      "Scraping PYTHON projects !!!\n",
      "Creating the data frame\n",
      "Done...\n",
      "\n",
      "Scraping R projects !!!\n",
      "Creating the data frame\n",
      "Done...\n",
      "\n",
      "Scraping SQL projects !!!\n",
      "Creating the data frame\n",
      "Done...\n",
      "\n",
      "Scraping GIT projects !!!\n",
      "No projects found for GIT\n",
      "\n",
      "Scraping SHELL projects !!!\n",
      "No projects found for SHELL\n",
      "\n",
      "Scraping SPREADSHEETS projects !!!\n",
      "No projects found for SPREADSHEETS\n",
      "\n"
     ]
    }
   ],
   "source": [
    "python_projects = Extraction('tech:python')\n",
    "r_projects = Extraction('tech:r')\n",
    "sql_projects = Extraction('tech:sql')\n",
    "git_projects = Extraction('tech:git')\n",
    "shell_projects = Extraction('tech:shell')\n",
    "spreadsheets_projects = Extraction('tech:spreadsheets')"
   ]
  },
  {
   "cell_type": "markdown",
   "metadata": {},
   "source": [
    "Since, there are no projects on GIT, SHELL, SPREADSHEETS "
   ]
  },
  {
   "cell_type": "code",
   "execution_count": 8,
   "metadata": {},
   "outputs": [],
   "source": [
    "projects = pd.concat([python_projects, r_projects,sql_projects], axis=0)"
   ]
  },
  {
   "cell_type": "code",
   "execution_count": 9,
   "metadata": {},
   "outputs": [],
   "source": [
    "projects.reset_index(drop=True, inplace=True)"
   ]
  },
  {
   "cell_type": "code",
   "execution_count": 10,
   "metadata": {},
   "outputs": [
    {
     "data": {
      "text/plain": [
       "57"
      ]
     },
     "execution_count": 10,
     "metadata": {},
     "output_type": "execute_result"
    }
   ],
   "source": [
    "len(projects)"
   ]
  },
  {
   "cell_type": "markdown",
   "metadata": {},
   "source": [
    "### Saving data frame  in a csv file named filename5.csv :"
   ]
  },
  {
   "cell_type": "code",
   "execution_count": 11,
   "metadata": {},
   "outputs": [],
   "source": [
    "projects.to_csv('C://Users//DELL//Desktop//Data Science//filename5.csv', header=True)"
   ]
  },
  {
   "cell_type": "markdown",
   "metadata": {},
   "source": [
    "Hence there are total 57 projects on DataCamp."
   ]
  },
  {
   "cell_type": "code",
   "execution_count": null,
   "metadata": {},
   "outputs": [],
   "source": []
  }
 ],
 "metadata": {
  "kernelspec": {
   "display_name": "Python 3",
   "language": "python",
   "name": "python3"
  },
  "language_info": {
   "codemirror_mode": {
    "name": "ipython",
    "version": 3
   },
   "file_extension": ".py",
   "mimetype": "text/x-python",
   "name": "python",
   "nbconvert_exporter": "python",
   "pygments_lexer": "ipython3",
   "version": "3.6.6"
  }
 },
 "nbformat": 4,
 "nbformat_minor": 2
}
